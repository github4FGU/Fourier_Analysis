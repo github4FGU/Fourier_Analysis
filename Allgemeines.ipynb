{
 "cells": [
  {
   "cell_type": "markdown",
   "metadata": {},
   "source": [
    "# Allgemeines\n",
    "## 1. Orthonormale Basis\n",
    "Wir betrachten reel-wertige Funktionen im Intervall $[0, 2\\pi]$:\n",
    "$f(x)$, die wir mit einer orthonormalen Basis beschreiben möchten,\n",
    "so wie Vektoren im Cartesischen Koordinatensystem.  \n",
    "Seien $\\bold{e_i}$ und $\\bold{e_j}$ zwei Einheitsvektoren dieser\n",
    "Basis, so gilt für das (geeignet definierte) Skalarprodukt:  \n",
    "\n",
    "$<\\bold{e_i}, \\bold{e_j}> = \\delta_{ij}$, $i, j \\in \\N$\n",
    "\n",
    "Es kann leicht gezeigt werden, dass für diese Einheitsvektoren\n",
    "$sin()$ und $cos()$ geeignet sind:\n",
    "\n",
    "Sei $\\bold{e_i}(x) = sin(i \\cdot x)$\n",
    "\n",
    "so gilt:\n",
    "\n",
    "$\\int_0^{2\\pi} sin(i x) sin(j x) dx = \\pi \\cdot \\delta_{ij}$\n",
    "\n",
    "Genau so für den $cos()$:\n",
    "\n",
    "$\\int_0^{2\\pi} cos(i x) cos(j x) dx = \\pi \\cdot \\delta_{ij}$\n",
    "\n",
    "Und für die gemischten Terme gilt:\n",
    "\n",
    "$\\int_0^{2\\pi} sin(i x) cos(j x) dx = 0$\n",
    "\n",
    "Dies wird im Folgenden mit Hilfe des Package \"sympy\" gezeigt:\n"
   ]
  },
  {
   "cell_type": "code",
   "execution_count": 12,
   "metadata": {},
   "outputs": [],
   "source": [
    "import sympy as smp\n",
    "import matplotlib.pyplot as plt\n",
    "import numpy as np\n",
    "plt.style.use(['fivethirtyeight'])"
   ]
  },
  {
   "cell_type": "code",
   "execution_count": 13,
   "metadata": {},
   "outputs": [
    {
     "data": {
      "text/plain": [
       "(sin(i*x), sin(j*x), cos(i*x), cos(j*x))"
      ]
     },
     "execution_count": 13,
     "metadata": {},
     "output_type": "execute_result"
    }
   ],
   "source": [
    "x, w = smp.symbols('x w', real=True)\n",
    "i, j = smp.symbols('i j', integer=True, positive=True)\n",
    "sini = smp.sin(i * x)\n",
    "sinj = smp.sin(j * x)\n",
    "cosi = smp.cos(i * x)\n",
    "cosj = smp.cos(j * x)\n",
    "sini, sinj, cosi, cosj"
   ]
  },
  {
   "cell_type": "markdown",
   "metadata": {},
   "source": [
    "$\\int_0^{2\\pi} sin(i x) sin(j x) dx = \\pi \\cdot \\delta_{ij}$\n"
   ]
  },
  {
   "cell_type": "code",
   "execution_count": 14,
   "metadata": {},
   "outputs": [
    {
     "data": {
      "text/latex": [
       "$\\displaystyle \\begin{cases} 0 & \\text{for}\\: i \\neq j \\\\\\pi & \\text{otherwise} \\end{cases}$"
      ],
      "text/plain": [
       "Piecewise((0, Ne(i, j)), (pi, True))"
      ]
     },
     "execution_count": 14,
     "metadata": {},
     "output_type": "execute_result"
    }
   ],
   "source": [
    "smp.integrate((sini * sinj), (x, 0, 2 * smp.pi))"
   ]
  },
  {
   "cell_type": "markdown",
   "metadata": {},
   "source": [
    "$\\int_0^{2\\pi} sin(i x) cos(j x) dx = 0$\n"
   ]
  },
  {
   "cell_type": "code",
   "execution_count": 15,
   "metadata": {},
   "outputs": [
    {
     "data": {
      "text/latex": [
       "$\\displaystyle 0$"
      ],
      "text/plain": [
       "0"
      ]
     },
     "execution_count": 15,
     "metadata": {},
     "output_type": "execute_result"
    }
   ],
   "source": [
    "smp.integrate((sini * cosj), (x, 0, 2 * smp.pi))"
   ]
  }
 ],
 "metadata": {
  "kernelspec": {
   "display_name": "Python 3.8.10 ('base')",
   "language": "python",
   "name": "python3"
  },
  "language_info": {
   "codemirror_mode": {
    "name": "ipython",
    "version": 3
   },
   "file_extension": ".py",
   "mimetype": "text/x-python",
   "name": "python",
   "nbconvert_exporter": "python",
   "pygments_lexer": "ipython3",
   "version": "3.8.10"
  },
  "orig_nbformat": 4,
  "vscode": {
   "interpreter": {
    "hash": "ad2bdc8ecc057115af97d19610ffacc2b4e99fae6737bb82f5d7fb13d2f2c186"
   }
  }
 },
 "nbformat": 4,
 "nbformat_minor": 2
}
