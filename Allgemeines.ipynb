{
 "cells": [
  {
   "cell_type": "markdown",
   "metadata": {},
   "source": [
    "# Allgemeines\n",
    "## 1. Orthonormale Basis\n",
    "Wir betrachten reel-wertige Funktionen im Intervall $[0, 2\\pi]$:\n",
    "$f(x)$, die wir mit einer orthonormalen Basis beschreiben möchten,\n",
    "so wie Vektoren im Cartesischen Koordinatensystem.  \n",
    "Seien ${e_i}$ und ${e_j}$ zwei Einheitsvektoren dieser\n",
    "Basis, so gilt für das (geeignet definierte) Skalarprodukt:  \n",
    "\n",
    "$<{e_i}, {e_j}> = \\delta_{ij}$, mit $i, j \\in \\N$\n",
    "\n",
    "Es kann leicht gezeigt werden, dass für diese Einheitsvektoren\n",
    "$sin()$ und $cos()$ geeignet sind:\n",
    "\n",
    "Sei ${e_i}(x) = sin(i \\cdot x)$\n",
    "\n",
    "so gilt:\n",
    "\n",
    "$\\int_0^{2\\pi} sin(i x) sin(j x) dx = \\pi \\cdot \\delta_{ij}$\n",
    "\n",
    "Genau so für den $cos()$:\n",
    "\n",
    "$\\int_0^{2\\pi} cos(i x) cos(j x) dx = \\pi \\cdot \\delta_{ij}$\n",
    "\n",
    "Und für die gemischten Terme gilt:\n",
    "\n",
    "$\\int_0^{2\\pi} sin(i x) cos(j x) dx = 0$\n",
    "\n",
    "Dies wird im Folgenden mit Hilfe des Package \"sympy\" gezeigt:\n"
   ]
  },
  {
   "cell_type": "code",
   "execution_count": 19,
   "metadata": {},
   "outputs": [],
   "source": [
    "import sympy as smp\n",
    "from sympy import *\n",
    "import matplotlib.pyplot as plt\n",
    "import numpy as np\n",
    "# plt.style.use(['fivethirtyeight'])"
   ]
  },
  {
   "cell_type": "code",
   "execution_count": 20,
   "metadata": {},
   "outputs": [],
   "source": [
    "N_POINTS = 400  # Anzahl der Punkte auf der x-Achse für Plots\n",
    "N_REIHE = 1  # Anzahl der Glieder, die für die Fourier-Reihe genutzt werden\n"
   ]
  },
  {
   "cell_type": "code",
   "execution_count": 21,
   "metadata": {},
   "outputs": [
    {
     "data": {
      "text/plain": [
       "(sin(i*x), sin(j*x), cos(i*x), cos(j*x))"
      ]
     },
     "execution_count": 21,
     "metadata": {},
     "output_type": "execute_result"
    }
   ],
   "source": [
    "x, w = smp.symbols('x w', real=True)\n",
    "i, j = smp.symbols('i j', integer=True, positive=True)\n",
    "sini = smp.sin(i * x)\n",
    "sinj = smp.sin(j * x)\n",
    "cosi = smp.cos(i * x)\n",
    "cosj = smp.cos(j * x)\n",
    "sini, sinj, cosi, cosj"
   ]
  },
  {
   "cell_type": "markdown",
   "metadata": {},
   "source": [
    "$\\int_0^{2\\pi} sin(i x) sin(j x) dx = \\pi \\cdot \\delta_{ij}$\n"
   ]
  },
  {
   "cell_type": "code",
   "execution_count": 22,
   "metadata": {},
   "outputs": [
    {
     "data": {
      "text/latex": [
       "$\\displaystyle \\begin{cases} 0 & \\text{for}\\: i \\neq j \\\\\\pi & \\text{otherwise} \\end{cases}$"
      ],
      "text/plain": [
       "Piecewise((0, Ne(i, j)), (pi, True))"
      ]
     },
     "execution_count": 22,
     "metadata": {},
     "output_type": "execute_result"
    }
   ],
   "source": [
    "smp.integrate((sini * sinj), (x, 0, 2 * smp.pi))"
   ]
  },
  {
   "cell_type": "markdown",
   "metadata": {},
   "source": [
    "$\\int_0^{2\\pi} cos(i x) cos(j x) dx = \\pi \\cdot \\delta_{ij}$"
   ]
  },
  {
   "cell_type": "code",
   "execution_count": 23,
   "metadata": {},
   "outputs": [
    {
     "data": {
      "text/latex": [
       "$\\displaystyle \\begin{cases} 0 & \\text{for}\\: i \\neq j \\\\\\pi & \\text{otherwise} \\end{cases}$"
      ],
      "text/plain": [
       "Piecewise((0, Ne(i, j)), (pi, True))"
      ]
     },
     "execution_count": 23,
     "metadata": {},
     "output_type": "execute_result"
    }
   ],
   "source": [
    "smp.integrate((cosi * cosj), (x, 0, 2 * smp.pi))"
   ]
  },
  {
   "cell_type": "markdown",
   "metadata": {},
   "source": [
    "$\\int_0^{2\\pi} sin(i x) cos(j x) dx = 0$\n"
   ]
  },
  {
   "cell_type": "code",
   "execution_count": 24,
   "metadata": {},
   "outputs": [
    {
     "data": {
      "text/latex": [
       "$\\displaystyle 0$"
      ],
      "text/plain": [
       "0"
      ]
     },
     "execution_count": 24,
     "metadata": {},
     "output_type": "execute_result"
    }
   ],
   "source": [
    "smp.integrate((sini * cosj), (x, 0, 2 * smp.pi))"
   ]
  },
  {
   "cell_type": "markdown",
   "metadata": {},
   "source": [
    "q.e.d. (quod erat demonstrandum: was zu beweisen war!)"
   ]
  },
  {
   "cell_type": "markdown",
   "metadata": {},
   "source": [
    "## 2. Fourier-Reihen\n",
    "\n",
    "Da, wie gezeigt, $sin(k x)$ und $cos(k x)$ ($k \\in \\N$) eine Orthonormalbasis für Funktionen\n",
    "auf dem Intervall $[0, 2 \\pi]$ darstellen, kann jede Funktion in diesem Intervall\n",
    "nach dieser Basis entwickelt werden:\n",
    "\n",
    "$f(x) = \\sum_{k=0}^{\\inf} \\left( a_k sin(k x) + b_k cos(k x) \\right)$\n",
    "\n",
    "Die Koeffizienten $a_k$ und $b_k$ können einfach berechnet werden:\n",
    "\n",
    "$\\int_0^{2\\pi} f(x) \\cdot sin(m x) dx = $  \n",
    "$\\int_0^{2\\pi} \\sum_{k=0}^{\\inf} \\left( a_k sin(k x) + b_k cos(k x) \\right) \\cdot sin(m x) dx = $  \n",
    "$\\int_0^{2\\pi} \\sum_{k=0}^{\\inf} \\left( a_k \\cdot \\delta_{km} \\right) dx = 2 \\pi a_m$  \n",
    "\n",
    "Analog gilt:\n",
    "\n",
    "$\\int_0^{2\\pi} f(x) \\cdot cos(m x) dx = $  \n",
    "$\\int_0^{2\\pi} \\sum_{k=0}^{\\inf} \\left( a_k sin(k x) + b_k cos(k x) \\right) \\cdot cos(m x) dx = $  \n",
    "$\\int_0^{2\\pi} \\sum_{k=0}^{\\inf} \\left( b_k \\cdot \\delta_{km} \\right) dx = 2 \\pi b_m$  \n"
   ]
  },
  {
   "cell_type": "markdown",
   "metadata": {},
   "source": [
    "### Beispiel: Rechteck-Funktion\n",
    "\n",
    "Die Funktion sei $0$ im Intervall $[0, \\pi)$ und $1$ im Intervall $[\\pi, 2 \\pi]$."
   ]
  },
  {
   "cell_type": "code",
   "execution_count": 25,
   "metadata": {},
   "outputs": [],
   "source": [
    "# func = smp.Function('func', real = True)\n",
    "func = smp.symbols('func', real = True)\n",
    "\n",
    "def func(x):\n",
    "    if (x < smp.pi):\n",
    "        return 0.0\n",
    "    else:\n",
    "        return 1.0\n"
   ]
  },
  {
   "cell_type": "code",
   "execution_count": 26,
   "metadata": {},
   "outputs": [
    {
     "data": {
      "text/plain": [
       "[<matplotlib.lines.Line2D at 0x2dff64db850>]"
      ]
     },
     "execution_count": 26,
     "metadata": {},
     "output_type": "execute_result"
    },
    {
     "data": {
      "image/png": "[encoded data removed]",
      "text/plain": [
       "<Figure size 640x480 with 1 Axes>"
      ]
     },
     "metadata": {},
     "output_type": "display_data"
    }
   ],
   "source": [
    "x_values = np.linspace(0, 2.0 * 3.14159265, N_POINTS)\n",
    "\n",
    "func_values = []\n",
    "for i in range(len(x_values)):\n",
    "    func_values.append(func(x_values[i]))\n",
    "\n",
    "plt.plot(x_values, func_values)\n"
   ]
  },
  {
   "cell_type": "markdown",
   "metadata": {},
   "source": [
    "Berechnung der $a_m$:"
   ]
  },
  {
   "cell_type": "code",
   "execution_count": 27,
   "metadata": {},
   "outputs": [
    {
     "data": {
      "text/plain": [
       "[0]"
      ]
     },
     "execution_count": 27,
     "metadata": {},
     "output_type": "execute_result"
    }
   ],
   "source": [
    "a_values = []\n",
    "for k in range(N_REIHE):\n",
    "    a = smp.integrate((smp.sin(k*x)), (x, smp.pi, 2 * smp.pi))\n",
    "    a_values.append(a)\n",
    "\n",
    "a_values  # Faktor 1/(2 pi) fehlt noch!\n"
   ]
  },
  {
   "cell_type": "markdown",
   "metadata": {},
   "source": [
    "Berechnung der $b_m$:"
   ]
  },
  {
   "cell_type": "code",
   "execution_count": 28,
   "metadata": {},
   "outputs": [
    {
     "data": {
      "text/plain": [
       "[pi]"
      ]
     },
     "execution_count": 28,
     "metadata": {},
     "output_type": "execute_result"
    }
   ],
   "source": [
    "b_values = []\n",
    "for k in range(N_REIHE):\n",
    "    # b = N(smp.integrate((smp.cos(k*x)), (x, smp.pi, 2 * smp.pi)))\n",
    "    b = smp.integrate((smp.cos(k*x)), (x, smp.pi, 2 * smp.pi))\n",
    "    b_values.append(b)\n",
    "\n",
    "b_values  # Faktor 1/(2 pi) fehlt noch!\n"
   ]
  },
  {
   "cell_type": "markdown",
   "metadata": {},
   "source": [
    "Jetzt setzen wir die Fourier-Reihe zusammen:\n"
   ]
  },
  {
   "cell_type": "code",
   "execution_count": 29,
   "metadata": {},
   "outputs": [],
   "source": [
    "Fourier_Reihe = np.zeros(N_POINTS)\n",
    "\n",
    "for k in range(N_REIHE):\n",
    "    for l in range(N_POINTS):\n",
    "            Fourier_Reihe[l] += a_values[k] + sin(k * x_values[l])\n",
    "            Fourier_Reihe[l] += b_values[k] + cos(k * x_values[l])\n",
    "        \n",
    "for l in range(N_POINTS):\n",
    "    Fourier_Reihe[l] /= (2.0 * smp.pi)"
   ]
  },
  {
   "cell_type": "code",
   "execution_count": 30,
   "metadata": {},
   "outputs": [
    {
     "data": {
      "text/plain": [
       "[<matplotlib.lines.Line2D at 0x2dff61b5460>]"
      ]
     },
     "execution_count": 30,
     "metadata": {},
     "output_type": "execute_result"
    },
    {
     "data": {
      "image/png": "[encoded data removed]",
      "text/plain": [
       "<Figure size 640x480 with 1 Axes>"
      ]
     },
     "metadata": {},
     "output_type": "display_data"
    }
   ],
   "source": [
    "plt.plot(x_values, Fourier_Reihe)\n"
   ]
  },
  {
   "cell_type": "markdown",
   "metadata": {},
   "source": [
    "Das hätten wir jetzt nicht bei 0.66 sondern bei 0.5 erwartet.  \n",
    "Hier stimmt irgend etwas nicht!!!"
   ]
  }
 ],
 "metadata": {
  "kernelspec": {
   "display_name": "Python 3.8.10 ('base')",
   "language": "python",
   "name": "python3"
  },
  "language_info": {
   "codemirror_mode": {
    "name": "ipython",
    "version": 3
   },
   "file_extension": ".py",
   "mimetype": "text/x-python",
   "name": "python",
   "nbconvert_exporter": "python",
   "pygments_lexer": "ipython3",
   "version": "3.8.10"
  },
  "orig_nbformat": 4,
  "vscode": {
   "interpreter": {
    "hash": "ad2bdc8ecc057115af97d19610ffacc2b4e99fae6737bb82f5d7fb13d2f2c186"
   }
  }
 },
 "nbformat": 4,
 "nbformat_minor": 2
}
